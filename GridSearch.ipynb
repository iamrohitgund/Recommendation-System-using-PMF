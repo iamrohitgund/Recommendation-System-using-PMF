{
 "cells": [
  {
   "cell_type": "code",
   "execution_count": 2,
   "id": "cd58c974",
   "metadata": {},
   "outputs": [
    {
     "name": "stdout",
     "output_type": "stream",
     "text": [
      "training KPMF on train_20, with user_info = False, item_info =False\n",
      "trying learning rate : 0.01, regulairzation : 0.1\n",
      "Preprocessing data...\n",
      "initalizing parameters for KPMF\n",
      "Epoch 1/100  | "
     ]
    },
    {
     "name": "stderr",
     "output_type": "stream",
     "text": [
      "ipynb.fs.full.KPMF:44: RuntimeWarning: overflow encountered in multiply\n"
     ]
    },
    {
     "name": "stdout",
     "output_type": "stream",
     "text": [
      "train_rmse: nan - val_rmse: nan - took 0.7 sec\n",
      "Epoch 2/100  | train_rmse: nan - val_rmse: nan - took 0.7 sec\n",
      "Epoch 3/100  | train_rmse: nan - val_rmse: nan - took 0.7 sec\n",
      "Epoch 4/100  | train_rmse: nan - val_rmse: nan - took 0.7 sec\n",
      "Epoch 5/100  | train_rmse: nan - val_rmse: nan - took 0.7 sec\n",
      "Epoch 6/100  | train_rmse: nan - val_rmse: nan - took 0.7 sec\n",
      "Epoch 7/100  | train_rmse: nan - val_rmse: nan - took 0.7 sec\n",
      "Epoch 8/100  | train_rmse: nan - val_rmse: nan - took 0.7 sec\n",
      "Epoch 9/100  | train_rmse: nan - val_rmse: nan - took 0.7 sec\n",
      "Epoch 10/100 | train_rmse: nan - val_rmse: nan - took 0.7 sec\n",
      "Epoch 11/100 | train_rmse: nan - val_rmse: nan - took 0.7 sec\n",
      "Epoch 12/100 | train_rmse: nan - val_rmse: nan - took 0.7 sec\n",
      "Epoch 13/100 | train_rmse: nan - val_rmse: nan - took 0.7 sec\n",
      "Epoch 14/100 | train_rmse: nan - val_rmse: nan - took 0.7 sec\n",
      "Epoch 15/100 | train_rmse: nan - val_rmse: nan - took 0.7 sec\n",
      "Epoch 16/100 | train_rmse: nan - val_rmse: nan - took 0.8 sec\n",
      "Epoch 17/100 | "
     ]
    },
    {
     "ename": "KeyboardInterrupt",
     "evalue": "",
     "output_type": "error",
     "traceback": [
      "\u001b[0;31m---------------------------------------------------------------------------\u001b[0m",
      "\u001b[0;31mKeyboardInterrupt\u001b[0m                         Traceback (most recent call last)",
      "\u001b[0;32m<ipython-input-2-ccb096627b23>\u001b[0m in \u001b[0;36m<module>\u001b[0;34m\u001b[0m\n\u001b[1;32m     48\u001b[0m \t\tprint (\"training KPMF on {}, with user_info = {}, item_info ={}\"\\\n\u001b[1;32m     49\u001b[0m \t\t\t.format(train_size, user_side, item_side))\n\u001b[0;32m---> 50\u001b[0;31m                 \u001b[0mKPMF_hyper\u001b[0m\u001b[0;34m[\u001b[0m\u001b[0;34m(\u001b[0m\u001b[0mtrain_size\u001b[0m\u001b[0;34m,\u001b[0m \u001b[0muser_side\u001b[0m\u001b[0;34m,\u001b[0m \u001b[0mitem_side\u001b[0m\u001b[0;34m)\u001b[0m\u001b[0;34m]\u001b[0m \u001b[0;34m=\u001b[0m \u001b[0mgrid_search\u001b[0m\u001b[0;34m(\u001b[0m\u001b[0mKPMF\u001b[0m\u001b[0;34m,\u001b[0m \u001b[0mtrain_size\u001b[0m\u001b[0;34m,\u001b[0m \u001b[0muser_side\u001b[0m\u001b[0;34m,\u001b[0m \u001b[0mitem_side\u001b[0m\u001b[0;34m)\u001b[0m\u001b[0;34m\u001b[0m\u001b[0;34m\u001b[0m\u001b[0m\n\u001b[0m\u001b[1;32m     51\u001b[0m \u001b[0;34m\u001b[0m\u001b[0m\n\u001b[1;32m     52\u001b[0m \u001b[0;34m\u001b[0m\u001b[0m\n",
      "\u001b[0;32m<ipython-input-2-ccb096627b23>\u001b[0m in \u001b[0;36mgrid_search\u001b[0;34m(Model, train_size, user_side, item_side)\u001b[0m\n\u001b[1;32m     32\u001b[0m \t\t\tm.fit(train = data_dict[train_size] , val = data_dict['val'], early_stopping = True, \\\n\u001b[1;32m     33\u001b[0m                                 \u001b[0muser_side\u001b[0m \u001b[0;34m=\u001b[0m \u001b[0muser_side\u001b[0m\u001b[0;34m,\u001b[0m \u001b[0muser_kernel_fn\u001b[0m \u001b[0;34m=\u001b[0m \u001b[0minv_commute_time_kernel\u001b[0m\u001b[0;34m,\u001b[0m\u001b[0;31m \u001b[0m\u001b[0;31m\\\u001b[0m\u001b[0;34m\u001b[0m\u001b[0;34m\u001b[0m\u001b[0m\n\u001b[0;32m---> 34\u001b[0;31m \t\t\t\titem_side = item_side, item_kernel_fn = inv_rbf_kernel)\n\u001b[0m\u001b[1;32m     35\u001b[0m                         \u001b[0;32mif\u001b[0m \u001b[0mm\u001b[0m\u001b[0;34m.\u001b[0m\u001b[0mmin_val\u001b[0m \u001b[0;34m<\u001b[0m \u001b[0mresult\u001b[0m\u001b[0;34m[\u001b[0m\u001b[0;34m'min_val'\u001b[0m\u001b[0;34m]\u001b[0m\u001b[0;34m:\u001b[0m\u001b[0;34m\u001b[0m\u001b[0;34m\u001b[0m\u001b[0m\n\u001b[1;32m     36\u001b[0m                                 \u001b[0mresult\u001b[0m\u001b[0;34m[\u001b[0m\u001b[0;34m'min_val'\u001b[0m\u001b[0;34m]\u001b[0m \u001b[0;34m=\u001b[0m \u001b[0mm\u001b[0m\u001b[0;34m.\u001b[0m\u001b[0mmin_val\u001b[0m\u001b[0;34m\u001b[0m\u001b[0;34m\u001b[0m\u001b[0m\n",
      "\u001b[0;32m~/OneDrive - Cal State Fullerton/CPSC 597/Project iPynb/AlgoBase.ipynb\u001b[0m in \u001b[0;36mfit\u001b[0;34m(self, train, val, early_stopping, shuffle, user_side, user_kernel_fn, item_side, item_kernel_fn)\u001b[0m\n\u001b[1;32m    197\u001b[0m     \u001b[0;34m\"            self._prepare_user_inv_kernel_matrix(user_kernel_fn)\\n\"\u001b[0m\u001b[0;34m,\u001b[0m\u001b[0;34m\u001b[0m\u001b[0;34m\u001b[0m\u001b[0m\n\u001b[1;32m    198\u001b[0m     \u001b[0;34m\"        if item_side: \\n\"\u001b[0m\u001b[0;34m,\u001b[0m\u001b[0;34m\u001b[0m\u001b[0;34m\u001b[0m\u001b[0m\n\u001b[0;32m--> 199\u001b[0;31m     \u001b[0;34m\"            print ('Preparing item side information')\\n\"\u001b[0m\u001b[0;34m,\u001b[0m\u001b[0;34m\u001b[0m\u001b[0;34m\u001b[0m\u001b[0m\n\u001b[0m\u001b[1;32m    200\u001b[0m     \u001b[0;34m\"            #inverse of kernel matrix \\n\"\u001b[0m\u001b[0;34m,\u001b[0m\u001b[0;34m\u001b[0m\u001b[0;34m\u001b[0m\u001b[0m\n\u001b[1;32m    201\u001b[0m     \u001b[0;34m\"            self._prepare_item_inv_kernel_matrix(item_kernel_fn)\\n\"\u001b[0m\u001b[0;34m,\u001b[0m\u001b[0;34m\u001b[0m\u001b[0;34m\u001b[0m\u001b[0m\n",
      "\u001b[0;32m~/OneDrive - Cal State Fullerton/CPSC 597/Project iPynb/AlgoBase.ipynb\u001b[0m in \u001b[0;36m_sgd\u001b[0;34m(self)\u001b[0m\n\u001b[1;32m    158\u001b[0m     \u001b[0;34m\"        for epoch_ix in range(self.n_epochs):\\n\"\u001b[0m\u001b[0;34m,\u001b[0m\u001b[0;34m\u001b[0m\u001b[0;34m\u001b[0m\u001b[0m\n\u001b[1;32m    159\u001b[0m     \u001b[0;34m\"            start_time = self._on_epoch_begin(epoch_ix)\\n\"\u001b[0m\u001b[0;34m,\u001b[0m\u001b[0;34m\u001b[0m\u001b[0;34m\u001b[0m\u001b[0m\n\u001b[0;32m--> 160\u001b[0;31m     \u001b[0;34m\"\\n\"\u001b[0m\u001b[0;34m,\u001b[0m\u001b[0;34m\u001b[0m\u001b[0;34m\u001b[0m\u001b[0m\n\u001b[0m\u001b[1;32m    161\u001b[0m     \u001b[0;34m\"            if self.shuffle:\\n\"\u001b[0m\u001b[0;34m,\u001b[0m\u001b[0;34m\u001b[0m\u001b[0;34m\u001b[0m\u001b[0m\n\u001b[1;32m    162\u001b[0m     \u001b[0;34m\"                np.random.shuffle(self.train)\\n\"\u001b[0m\u001b[0;34m,\u001b[0m\u001b[0;34m\u001b[0m\u001b[0;34m\u001b[0m\u001b[0m\n",
      "\u001b[0;32m~/OneDrive - Cal State Fullerton/CPSC 597/Project iPynb/KPMF.ipynb\u001b[0m in \u001b[0;36m_run_epoch\u001b[0;34m(self)\u001b[0m\n\u001b[1;32m     46\u001b[0m     \u001b[0;34m\"\\t\\t\\tpu = self.p[user]\\t\\n\"\u001b[0m\u001b[0;34m,\u001b[0m\u001b[0;34m\u001b[0m\u001b[0;34m\u001b[0m\u001b[0m\n\u001b[1;32m     47\u001b[0m     \u001b[0;34m\"\\n\"\u001b[0m\u001b[0;34m,\u001b[0m\u001b[0;34m\u001b[0m\u001b[0;34m\u001b[0m\u001b[0m\n\u001b[0;32m---> 48\u001b[0;31m     \u001b[0;34m\"\\t\\t\\tself.p[user] += self.lr * (err * self.q[item] - \\\\\\n\"\u001b[0m\u001b[0;34m,\u001b[0m\u001b[0;34m\u001b[0m\u001b[0;34m\u001b[0m\u001b[0m\n\u001b[0m\u001b[1;32m     49\u001b[0m     \u001b[0;34m\"\\t\\t\\t\\t\\tself.reg / self.n_user_rated[user] / 2 * (self.Su[user] @ self.p + self.p[user]))\\n\"\u001b[0m\u001b[0;34m,\u001b[0m\u001b[0;34m\u001b[0m\u001b[0;34m\u001b[0m\u001b[0m\n\u001b[1;32m     50\u001b[0m     \u001b[0;34m\"\\n\"\u001b[0m\u001b[0;34m,\u001b[0m\u001b[0;34m\u001b[0m\u001b[0;34m\u001b[0m\u001b[0m\n",
      "\u001b[0;31mKeyboardInterrupt\u001b[0m: "
     ]
    }
   ],
   "source": [
    "# grid search for best learning rate and regularization coefficient for all models \n",
    "\n",
    "import pandas as pd\n",
    "import numpy as np\n",
    "from collections import defaultdict\n",
    "from sklearn.metrics import mean_squared_error, pairwise\n",
    "import pickle\n",
    "from ipynb.fs.full.KPMF import KPMF\n",
    "from ipynb.fs.full.MixPMF import cKPMF\n",
    "from ipynb.fs.full.Kernel import *\n",
    "\n",
    "\n",
    "\n",
    "# read data dictionary\n",
    "with open('data_dict.pickle', 'rb') as handle:\n",
    "    data_dict = pickle.load(handle)\n",
    "\n",
    "\n",
    "KPMF_hyper = defaultdict(dict)\n",
    "cKPMF_hyper = defaultdict(dict)\n",
    "n_factor  = 30\n",
    "def grid_search(Model, train_size, user_side, item_side):\n",
    "\tparams = {'n_factors': n_factor, 'n_epochs': 100}\n",
    "\tresult = {'min_val': 999, 'lr': None, 'reg': None}\n",
    "\tfor lr in [0.01, 0.005]:\n",
    "\t\tfor reg in [0.1, 0.01, 0.001]:\n",
    "\t\t\tparams['learning_rate'] = lr\n",
    "\t\t\tparams['regularization'] = reg\n",
    "\t\t\tm = Model(**params)\n",
    "\t\t\tprint (\"trying learning rate : {}, regulairzation : {}\".format(lr, reg))\n",
    "\t\t\t# fit with early stopping to obtain the best model \n",
    "\t\t\tm.fit(train = data_dict[train_size] , val = data_dict['val'], early_stopping = True, \\\n",
    "\t\t\t\tuser_side = user_side, user_kernel_fn = inv_commute_time_kernel, \\\n",
    "\t\t\t\titem_side = item_side, item_kernel_fn = inv_rbf_kernel)\n",
    "\t\t\tif m.min_val < result['min_val']: \n",
    "\t\t\t\tresult['min_val'] = m.min_val\n",
    "\t\t\t\tresult['lr'] = lr\n",
    "\t\t\t\tresult['reg'] = reg\n",
    "\t\n",
    "\tprint ('best lr: {}, best reg: {}, min val rmse: {}'.format(result['lr'], result['reg'], result['min_val']))\n",
    "\treturn result\n",
    "\n",
    "\n",
    "\n",
    "for train_size in ['train_20', 'train_80']:\n",
    "\t# grid search for KPMF model \n",
    "\tfor (user_side, item_side) in [(False, False),(False, True), [True, False], [True, True]]:\n",
    "\t\tprint (\"training KPMF on {}, with user_info = {}, item_info ={}\"\\\n",
    "\t\t\t.format(train_size, user_side, item_side))\n",
    "\t\tKPMF_hyper[(train_size, user_side, item_side)] = grid_search(KPMF, train_size, user_side, item_side)\n",
    "\t\t\n",
    "\n",
    "\t# grid search for cKPMF model \n",
    "\tfor (user_side, item_side) in [(False, False),(False, True)]:\n",
    "\t\tprint (\"training cKPMF on {} with item_info ={}\"\\\n",
    "\t\t\t.format(train_size,  item_side))\n",
    "\t\t\n",
    "\t\tcKPMF_hyper[(train_size, item_side)] = grid_search(cKPMF, train_size, user_side, item_side)\n",
    "\t\t\n",
    "\n",
    "\n",
    "print (\"dumping result to local\")\n",
    "with open('KPMF_hyper_{}.pickle'.format(n_factor), 'wb') as handle:\n",
    "    pickle.dump(KPMF_hyper, handle, protocol=pickle.HIGHEST_PROTOCOL)\n",
    "with open('cKPMF_hyper_{}.pickle'.format(n_factor), 'wb') as handle:\n",
    "    pickle.dump(cKPMF_hyper, handle, protocol=pickle.HIGHEST_PROTOCOL)\n"
   ]
  },
  {
   "cell_type": "code",
   "execution_count": null,
   "id": "8248d569",
   "metadata": {},
   "outputs": [],
   "source": []
  }
 ],
 "metadata": {
  "kernelspec": {
   "display_name": "Python 3",
   "language": "python",
   "name": "python3"
  },
  "language_info": {
   "codemirror_mode": {
    "name": "ipython",
    "version": 3
   },
   "file_extension": ".py",
   "mimetype": "text/x-python",
   "name": "python",
   "nbconvert_exporter": "python",
   "pygments_lexer": "ipython3",
   "version": "3.7.3"
  }
 },
 "nbformat": 4,
 "nbformat_minor": 5
}
