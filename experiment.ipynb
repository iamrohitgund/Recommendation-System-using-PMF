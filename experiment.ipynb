{
 "cells": [
  {
   "cell_type": "code",
   "execution_count": 1,
   "id": "b56e5911",
   "metadata": {},
   "outputs": [
    {
     "name": "stdout",
     "output_type": "stream",
     "text": [
      "training KPMF on train_20, with user_info = False, item_info =False\n",
      "trying learning rate : 0.01, regulairzation : 0.1\n",
      "Preprocessing data...\n",
      "initalizing parameters for KPMF\n",
      "Epoch 1/100  | "
     ]
    },
    {
     "name": "stderr",
     "output_type": "stream",
     "text": [
      "ipynb.fs.full.KPMF:47: RuntimeWarning: overflow encountered in multiply\n",
      "ipynb.fs.full.KPMF:48: RuntimeWarning: invalid value encountered in matmul\n",
      "ipynb.fs.full.KPMF:44: RuntimeWarning: overflow encountered in multiply\n"
     ]
    },
    {
     "name": "stdout",
     "output_type": "stream",
     "text": [
      "train_rmse: nan - val_rmse: nan - took 0.8 sec\n",
      "Epoch 2/100  | train_rmse: nan - val_rmse: nan - took 0.7 sec\n",
      "Epoch 3/100  | train_rmse: nan - val_rmse: nan - took 0.7 sec\n",
      "Epoch 4/100  | train_rmse: nan - val_rmse: nan - took 0.7 sec\n",
      "Epoch 5/100  | "
     ]
    },
    {
     "ename": "KeyboardInterrupt",
     "evalue": "",
     "output_type": "error",
     "traceback": [
      "\u001b[0;31m---------------------------------------------------------------------------\u001b[0m",
      "\u001b[0;31mKeyboardInterrupt\u001b[0m                         Traceback (most recent call last)",
      "\u001b[0;32m<ipython-input-1-ccdf687ff375>\u001b[0m in \u001b[0;36m<module>\u001b[0;34m\u001b[0m\n\u001b[1;32m      7\u001b[0m \u001b[0;32mfrom\u001b[0m \u001b[0mipynb\u001b[0m\u001b[0;34m.\u001b[0m\u001b[0mfs\u001b[0m\u001b[0;34m.\u001b[0m\u001b[0mfull\u001b[0m\u001b[0;34m.\u001b[0m\u001b[0mcKPMF\u001b[0m \u001b[0;32mimport\u001b[0m \u001b[0mcKPMF\u001b[0m\u001b[0;34m\u001b[0m\u001b[0;34m\u001b[0m\u001b[0m\n\u001b[1;32m      8\u001b[0m \u001b[0;32mfrom\u001b[0m \u001b[0mipynb\u001b[0m\u001b[0;34m.\u001b[0m\u001b[0mfs\u001b[0m\u001b[0;34m.\u001b[0m\u001b[0mfull\u001b[0m\u001b[0;34m.\u001b[0m\u001b[0mKernel\u001b[0m \u001b[0;32mimport\u001b[0m \u001b[0;34m*\u001b[0m\u001b[0;34m\u001b[0m\u001b[0;34m\u001b[0m\u001b[0m\n\u001b[0;32m----> 9\u001b[0;31m \u001b[0;32mfrom\u001b[0m \u001b[0mipynb\u001b[0m\u001b[0;34m.\u001b[0m\u001b[0mfs\u001b[0m\u001b[0;34m.\u001b[0m\u001b[0mfull\u001b[0m\u001b[0;34m.\u001b[0m\u001b[0mGridSearch\u001b[0m \u001b[0;32mimport\u001b[0m \u001b[0;34m*\u001b[0m\u001b[0;34m\u001b[0m\u001b[0;34m\u001b[0m\u001b[0m\n\u001b[0m\u001b[1;32m     10\u001b[0m \u001b[0mn_factor\u001b[0m \u001b[0;34m=\u001b[0m \u001b[0;36m30\u001b[0m\u001b[0;34m\u001b[0m\u001b[0;34m\u001b[0m\u001b[0m\n\u001b[1;32m     11\u001b[0m \u001b[0;34m\u001b[0m\u001b[0m\n",
      "\u001b[0;32m~/OneDrive - Cal State Fullerton/CPSC 597/Project iPynb/GridSearch.ipynb\u001b[0m in \u001b[0;36m<module>\u001b[0;34m\u001b[0m\n\u001b[1;32m     53\u001b[0m      \u001b[0;34m\"output_type\"\u001b[0m\u001b[0;34m:\u001b[0m \u001b[0;34m\"error\"\u001b[0m\u001b[0;34m,\u001b[0m\u001b[0;34m\u001b[0m\u001b[0;34m\u001b[0m\u001b[0m\n\u001b[1;32m     54\u001b[0m      \"traceback\": [\n\u001b[0;32m---> 55\u001b[0;31m       \u001b[0;34m\"\\u001b[0;31m---------------------------------------------------------------------------\\u001b[0m\"\u001b[0m\u001b[0;34m,\u001b[0m\u001b[0;34m\u001b[0m\u001b[0;34m\u001b[0m\u001b[0m\n\u001b[0m\u001b[1;32m     56\u001b[0m       \u001b[0;34m\"\\u001b[0;31mKeyboardInterrupt\\u001b[0m                         Traceback (most recent call last)\"\u001b[0m\u001b[0;34m,\u001b[0m\u001b[0;34m\u001b[0m\u001b[0;34m\u001b[0m\u001b[0m\n\u001b[1;32m     57\u001b[0m       \u001b[0;34m\"\\u001b[0;32m<ipython-input-2-ccb096627b23>\\u001b[0m in \\u001b[0;36m<module>\\u001b[0;34m\\u001b[0m\\n\\u001b[1;32m     48\\u001b[0m \\t\\tprint (\\\"training KPMF on {}, with user_info = {}, item_info ={}\\\"\\\\\\n\\u001b[1;32m     49\\u001b[0m \\t\\t\\t.format(train_size, user_side, item_side))\\n\\u001b[0;32m---> 50\\u001b[0;31m                 \\u001b[0mKPMF_hyper\\u001b[0m\\u001b[0;34m[\\u001b[0m\\u001b[0;34m(\\u001b[0m\\u001b[0mtrain_size\\u001b[0m\\u001b[0;34m,\\u001b[0m \\u001b[0muser_side\\u001b[0m\\u001b[0;34m,\\u001b[0m \\u001b[0mitem_side\\u001b[0m\\u001b[0;34m)\\u001b[0m\\u001b[0;34m]\\u001b[0m \\u001b[0;34m=\\u001b[0m \\u001b[0mgrid_search\\u001b[0m\\u001b[0;34m(\\u001b[0m\\u001b[0mKPMF\\u001b[0m\\u001b[0;34m,\\u001b[0m \\u001b[0mtrain_size\\u001b[0m\\u001b[0;34m,\\u001b[0m \\u001b[0muser_side\\u001b[0m\\u001b[0;34m,\\u001b[0m \\u001b[0mitem_side\\u001b[0m\\u001b[0;34m)\\u001b[0m\\u001b[0;34m\\u001b[0m\\u001b[0;34m\\u001b[0m\\u001b[0m\\n\\u001b[0m\\u001b[1;32m     51\\u001b[0m \\u001b[0;34m\\u001b[0m\\u001b[0m\\n\\u001b[1;32m     52\\u001b[0m \\u001b[0;34m\\u001b[0m\\u001b[0m\\n\"\u001b[0m\u001b[0;34m,\u001b[0m\u001b[0;34m\u001b[0m\u001b[0;34m\u001b[0m\u001b[0m\n",
      "\u001b[0;32m~/OneDrive - Cal State Fullerton/CPSC 597/Project iPynb/GridSearch.ipynb\u001b[0m in \u001b[0;36mgrid_search\u001b[0;34m(Model, train_size, user_side, item_side)\u001b[0m\n\u001b[1;32m     37\u001b[0m       \u001b[0;34m\"Epoch 7/100  | train_rmse: nan - val_rmse: nan - took 0.7 sec\\n\"\u001b[0m\u001b[0;34m,\u001b[0m\u001b[0;34m\u001b[0m\u001b[0;34m\u001b[0m\u001b[0m\n\u001b[1;32m     38\u001b[0m       \u001b[0;34m\"Epoch 8/100  | train_rmse: nan - val_rmse: nan - took 0.7 sec\\n\"\u001b[0m\u001b[0;34m,\u001b[0m\u001b[0;34m\u001b[0m\u001b[0;34m\u001b[0m\u001b[0m\n\u001b[0;32m---> 39\u001b[0;31m       \u001b[0;34m\"Epoch 9/100  | train_rmse: nan - val_rmse: nan - took 0.7 sec\\n\"\u001b[0m\u001b[0;34m,\u001b[0m\u001b[0;34m\u001b[0m\u001b[0;34m\u001b[0m\u001b[0m\n\u001b[0m\u001b[1;32m     40\u001b[0m       \u001b[0;34m\"Epoch 10/100 | train_rmse: nan - val_rmse: nan - took 0.7 sec\\n\"\u001b[0m\u001b[0;34m,\u001b[0m\u001b[0;34m\u001b[0m\u001b[0;34m\u001b[0m\u001b[0m\n\u001b[1;32m     41\u001b[0m       \u001b[0;34m\"Epoch 11/100 | train_rmse: nan - val_rmse: nan - took 0.7 sec\\n\"\u001b[0m\u001b[0;34m,\u001b[0m\u001b[0;34m\u001b[0m\u001b[0;34m\u001b[0m\u001b[0m\n",
      "\u001b[0;32m~/OneDrive - Cal State Fullerton/CPSC 597/Project iPynb/AlgoBase.ipynb\u001b[0m in \u001b[0;36mfit\u001b[0;34m(self, train, val, early_stopping, shuffle, user_side, user_kernel_fn, item_side, item_kernel_fn)\u001b[0m\n\u001b[1;32m    197\u001b[0m     \u001b[0;34m\"            self._prepare_user_inv_kernel_matrix(user_kernel_fn)\\n\"\u001b[0m\u001b[0;34m,\u001b[0m\u001b[0;34m\u001b[0m\u001b[0;34m\u001b[0m\u001b[0m\n\u001b[1;32m    198\u001b[0m     \u001b[0;34m\"        if item_side: \\n\"\u001b[0m\u001b[0;34m,\u001b[0m\u001b[0;34m\u001b[0m\u001b[0;34m\u001b[0m\u001b[0m\n\u001b[0;32m--> 199\u001b[0;31m     \u001b[0;34m\"            print ('Preparing item side information')\\n\"\u001b[0m\u001b[0;34m,\u001b[0m\u001b[0;34m\u001b[0m\u001b[0;34m\u001b[0m\u001b[0m\n\u001b[0m\u001b[1;32m    200\u001b[0m     \u001b[0;34m\"            #inverse of kernel matrix \\n\"\u001b[0m\u001b[0;34m,\u001b[0m\u001b[0;34m\u001b[0m\u001b[0;34m\u001b[0m\u001b[0m\n\u001b[1;32m    201\u001b[0m     \u001b[0;34m\"            self._prepare_item_inv_kernel_matrix(item_kernel_fn)\\n\"\u001b[0m\u001b[0;34m,\u001b[0m\u001b[0;34m\u001b[0m\u001b[0;34m\u001b[0m\u001b[0m\n",
      "\u001b[0;32m~/OneDrive - Cal State Fullerton/CPSC 597/Project iPynb/AlgoBase.ipynb\u001b[0m in \u001b[0;36m_sgd\u001b[0;34m(self)\u001b[0m\n\u001b[1;32m    166\u001b[0m     \u001b[0;34m\"            train_rmse = self._compute_metrics(self.train)\\n\"\u001b[0m\u001b[0;34m,\u001b[0m\u001b[0;34m\u001b[0m\u001b[0;34m\u001b[0m\u001b[0m\n\u001b[1;32m    167\u001b[0m     \u001b[0;34m\"            \\n\"\u001b[0m\u001b[0;34m,\u001b[0m\u001b[0;34m\u001b[0m\u001b[0;34m\u001b[0m\u001b[0m\n\u001b[0;32m--> 168\u001b[0;31m     \u001b[0;34m\"            self.list_val_rmse.append(val_rmse)\\n\"\u001b[0m\u001b[0;34m,\u001b[0m\u001b[0;34m\u001b[0m\u001b[0;34m\u001b[0m\u001b[0m\n\u001b[0m\u001b[1;32m    169\u001b[0m     \u001b[0;34m\"            self.list_train_rmse.append(train_rmse)\\n\"\u001b[0m\u001b[0;34m,\u001b[0m\u001b[0;34m\u001b[0m\u001b[0;34m\u001b[0m\u001b[0m\n\u001b[1;32m    170\u001b[0m     \u001b[0;34m\"            self.min_val = min(val_rmse, self.min_val)                \\n\"\u001b[0m\u001b[0;34m,\u001b[0m\u001b[0;34m\u001b[0m\u001b[0;34m\u001b[0m\u001b[0m\n",
      "\u001b[0;32m~/OneDrive - Cal State Fullerton/CPSC 597/Project iPynb/AlgoBase.ipynb\u001b[0m in \u001b[0;36m_on_epoch_end\u001b[0;34m(self, start, train_rmse, val_rmse)\u001b[0m\n\u001b[1;32m    131\u001b[0m     \u001b[0;34m\"            start (float): starting time of the current epoch.\\n\"\u001b[0m\u001b[0;34m,\u001b[0m\u001b[0;34m\u001b[0m\u001b[0;34m\u001b[0m\u001b[0m\n\u001b[1;32m    132\u001b[0m     \u001b[0;34m\"            train_rmse: float, training rmse\\n\"\u001b[0m\u001b[0;34m,\u001b[0m\u001b[0;34m\u001b[0m\u001b[0;34m\u001b[0m\u001b[0m\n\u001b[0;32m--> 133\u001b[0;31m     \u001b[0;34m\"            val_rmse: float, validation rmse\\n\"\u001b[0m\u001b[0;34m,\u001b[0m\u001b[0;34m\u001b[0m\u001b[0;34m\u001b[0m\u001b[0m\n\u001b[0m\u001b[1;32m    134\u001b[0m     \u001b[0;34m\"        \\\"\\\"\\\"\\n\"\u001b[0m\u001b[0;34m,\u001b[0m\u001b[0;34m\u001b[0m\u001b[0;34m\u001b[0m\u001b[0m\n\u001b[1;32m    135\u001b[0m     \u001b[0;34m\"        end = time.time()\\n\"\u001b[0m\u001b[0;34m,\u001b[0m\u001b[0;34m\u001b[0m\u001b[0;34m\u001b[0m\u001b[0m\n",
      "\u001b[0;32m~/OneDrive - Cal State Fullerton/CPSC 597/Project iPynb/KPMF.ipynb\u001b[0m in \u001b[0;36m_compute_metrics\u001b[0;34m(self, X)\u001b[0m\n\u001b[1;32m     63\u001b[0m     \u001b[0;34m\"\\t\\tfor i in range(X.shape[0]):\\n\"\u001b[0m\u001b[0;34m,\u001b[0m\u001b[0;34m\u001b[0m\u001b[0;34m\u001b[0m\u001b[0m\n\u001b[1;32m     64\u001b[0m     \u001b[0;34m\"\\t\\t\\tuser, item, rating = int(X[i, 0]), int(X[i, 1]), X[i, 2]\\n\"\u001b[0m\u001b[0;34m,\u001b[0m\u001b[0;34m\u001b[0m\u001b[0;34m\u001b[0m\u001b[0m\n\u001b[0;32m---> 65\u001b[0;31m     \u001b[0;34m\"\\t\\t\\t# predict global mean if user or item is new\\n\"\u001b[0m\u001b[0;34m,\u001b[0m\u001b[0;34m\u001b[0m\u001b[0;34m\u001b[0m\u001b[0m\n\u001b[0m\u001b[1;32m     66\u001b[0m     \u001b[0;34m\"\\t\\t\\tpred = self.global_mean\\n\"\u001b[0m\u001b[0;34m,\u001b[0m\u001b[0;34m\u001b[0m\u001b[0;34m\u001b[0m\u001b[0m\n\u001b[1;32m     67\u001b[0m     \u001b[0;34m\"\\n\"\u001b[0m\u001b[0;34m,\u001b[0m\u001b[0;34m\u001b[0m\u001b[0;34m\u001b[0m\u001b[0m\n",
      "\u001b[0;32m<__array_function__ internals>\u001b[0m in \u001b[0;36mdot\u001b[0;34m(*args, **kwargs)\u001b[0m\n",
      "\u001b[0;31mKeyboardInterrupt\u001b[0m: "
     ]
    }
   ],
   "source": [
    "import pandas as pd\n",
    "import numpy as np\n",
    "from collections import defaultdict\n",
    "from sklearn.metrics import mean_squared_error, pairwise\n",
    "import pickle\n",
    "from ipynb.fs.full.KPMF import KPMF\n",
    "from ipynb.fs.full.cKPMF import cKPMF\n",
    "from ipynb.fs.full.Kernel import *\n",
    "from ipynb.fs.full.GridSearch import *\n",
    "n_factor = 30\n",
    "\n",
    "# read data dictionary\n",
    "with open('data_dict.pickle', 'rb') as handle:\n",
    "    data_dict = pickle.load(handle)\n",
    "# read hyperparameters \n",
    "\n",
    "with open('KPMF_hyper_{}.pickle'.format(n_factor), 'rb') as handle:\n",
    "    KPMF_hyper = pickle.load(handle)\n",
    "with open('cKPMF_hyper_{}.pickle'.format(n_factor), 'rb') as handle:\n",
    "    cKPMF_hyper = pickle.load(handle)\n",
    "\n",
    "\n",
    "\n",
    "KPMF_result = defaultdict(dict)\n",
    "cKPMF_result = defaultdict(dict)\n",
    "\t\n",
    "def fit_and_pred(model, train_size, cur_dict, user_side, item_side):\n",
    "\t# first train the model without early stopping\n",
    "\tmodel.fit(train = data_dict[train_size] , val = data_dict['val'], \\\n",
    "\t\tuser_side = user_side, user_kernel_fn = inv_commute_time_kernel, \\\n",
    "\t\titem_side = item_side, item_kernel_fn = inv_rbf_kernel)\n",
    "\tcur_dict['list_val_rmse'] = model.list_val_rmse[:]\n",
    "\tcur_dict['list_train_rmse'] = model.list_train_rmse[:]\n",
    "\t\n",
    "\t# fit with early stopping to obtain the best model \n",
    "\tmodel.fit(train = data_dict[train_size] , val = data_dict['val'], early_stopping = True, \\\n",
    "\t\tuser_side = user_side, user_kernel_fn = inv_commute_time_kernel, \\\n",
    "\t\titem_side = item_side, item_kernel_fn = inv_rbf_kernel)\n",
    "\tcur_dict['test_prediction'] = model.predict(data_dict['test'])\n",
    "\tcur_dict['test_rmse'] = np.sqrt(mean_squared_error(data_dict['test']['rating'], cur_dict['test_prediction']))\n",
    "\tprint (\"Test RMSE: {:.3f}\".format(cur_dict['test_rmse']))\n",
    "\n",
    "# for each train data and each num_factor: \n",
    "# first train all epochs , obtain list_val_rmse and list_train_rmse\n",
    "# then train with early stopping to obtain the best model \n",
    "# calculate test rmse \n",
    "fixed_params = {'n_factors': n_factor , 'n_epochs': 100}\n",
    "\n",
    "for train_size in ['train_80','train_20']:\n",
    "\t# experiments for KPMF model \n",
    "\tfor (user_side, item_side) in [(False, False),(False, True), [True, False], [True, True]]:\n",
    "\t\tmodel_key = (train_size, user_side, item_side)\n",
    "\t\tparams = fixed_params.copy()\n",
    "\t\tparams['learning_rate'] = KPMF_hyper[model_key]['lr']\n",
    "\t\tparams['regularization'] = KPMF_hyper[model_key]['reg']\n",
    "\n",
    "\t\tmodel = KPMF(**params)\n",
    "\t\tprint (\"training KPMF on {} with user_info = {}, item_info ={}\"\\\n",
    "\t\t\t.format(train_size, user_side, item_side))\n",
    "\t\tcur_dict = KPMF_result[model_key]\n",
    "\t\tfit_and_pred(model, train_size, cur_dict, user_side, item_side)\n",
    "\t\t\n",
    "\n",
    "\t# experiments for cKPMF model \n",
    "\tfor (user_side, item_side) in [(False, False),(False, True)]:\n",
    "\t\tmodel_key = (train_size, item_side)\n",
    "\t\tparams = fixed_params.copy()\n",
    "\t\tparams['learning_rate'] = cKPMF_hyper[model_key]['lr']\n",
    "\t\tparams['regularization'] = cKPMF_hyper[model_key]['reg']\n",
    "\t\tmodel = cKPMF(**params)\n",
    "\t\tprint (\"training cKPMF on {} with item_info ={}\".format(train_size, item_side))\n",
    "\t\tcur_dict = cKPMF_result[model_key]\n",
    "\t\tfit_and_pred(model, train_size, cur_dict, user_side, item_side)\n",
    "\t\t\n",
    "\n",
    "\n",
    "print (\"dumping result to local\")\n",
    "with open('KPMF_result_{}.pickle'.format(n_factor), 'wb') as handle:\n",
    "    pickle.dump(KPMF_result, handle, protocol=pickle.HIGHEST_PROTOCOL)\n",
    "with open('cKPMF_result_{}.pickle'.format(n_factor), 'wb') as handle:\n",
    "    pickle.dump(cKPMF_result, handle, protocol=pickle.HIGHEST_PROTOCOL)\n"
   ]
  },
  {
   "cell_type": "code",
   "execution_count": null,
   "id": "ade9d09b",
   "metadata": {},
   "outputs": [],
   "source": []
  }
 ],
 "metadata": {
  "kernelspec": {
   "display_name": "Python 3",
   "language": "python",
   "name": "python3"
  },
  "language_info": {
   "codemirror_mode": {
    "name": "ipython",
    "version": 3
   },
   "file_extension": ".py",
   "mimetype": "text/x-python",
   "name": "python",
   "nbconvert_exporter": "python",
   "pygments_lexer": "ipython3",
   "version": "3.7.3"
  }
 },
 "nbformat": 4,
 "nbformat_minor": 5
}
